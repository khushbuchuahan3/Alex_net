{
  "cells": [
    {
      "cell_type": "markdown",
      "metadata": {
        "id": "view-in-github",
        "colab_type": "text"
      },
      "source": [
        "<a href=\"https://colab.research.google.com/github/khushbuchuahan3/Alex_net/blob/main/Neural_from_Scratch.ipynb\" target=\"_parent\"><img src=\"https://colab.research.google.com/assets/colab-badge.svg\" alt=\"Open In Colab\"/></a>"
      ]
    },
    {
      "cell_type": "code",
      "execution_count": 1,
      "id": "57f008e7",
      "metadata": {
        "ExecuteTime": {
          "end_time": "2022-03-23T12:56:18.906175Z",
          "start_time": "2022-03-23T12:56:12.804086Z"
        },
        "id": "57f008e7"
      },
      "outputs": [],
      "source": [
        "import numpy as np\n",
        "import pandas as pd\n",
        "from matplotlib import pyplot as plt\n"
      ]
    },
    {
      "cell_type": "code",
      "execution_count": 2,
      "id": "d1e65800",
      "metadata": {
        "ExecuteTime": {
          "end_time": "2022-03-23T13:14:18.163368Z",
          "start_time": "2022-03-23T13:14:13.677876Z"
        },
        "id": "d1e65800"
      },
      "outputs": [],
      "source": [
        "data = pd.read_csv('/content/drive/MyDrive/mnist_train.csv')"
      ]
    },
    {
      "cell_type": "code",
      "execution_count": 3,
      "id": "3e9c57c9",
      "metadata": {
        "ExecuteTime": {
          "end_time": "2022-03-23T13:14:30.917391Z",
          "start_time": "2022-03-23T13:14:30.867610Z"
        },
        "colab": {
          "base_uri": "https://localhost:8080/",
          "height": 235
        },
        "id": "3e9c57c9",
        "outputId": "ef9a8b82-b02c-483e-c104-6876113b5865"
      },
      "outputs": [
        {
          "output_type": "execute_result",
          "data": {
            "text/plain": [
              "   label  1x1  1x2  1x3  1x4  1x5  1x6  1x7  1x8  1x9  ...  28x19  28x20  \\\n",
              "0      5    0    0    0    0    0    0    0    0    0  ...      0      0   \n",
              "1      0    0    0    0    0    0    0    0    0    0  ...      0      0   \n",
              "2      4    0    0    0    0    0    0    0    0    0  ...      0      0   \n",
              "3      1    0    0    0    0    0    0    0    0    0  ...      0      0   \n",
              "4      9    0    0    0    0    0    0    0    0    0  ...      0      0   \n",
              "\n",
              "   28x21  28x22  28x23  28x24  28x25  28x26  28x27  28x28  \n",
              "0      0      0      0      0      0      0      0      0  \n",
              "1      0      0      0      0      0      0      0      0  \n",
              "2      0      0      0      0      0      0      0      0  \n",
              "3      0      0      0      0      0      0      0      0  \n",
              "4      0      0      0      0      0      0      0      0  \n",
              "\n",
              "[5 rows x 785 columns]"
            ],
            "text/html": [
              "\n",
              "  <div id=\"df-f1406d37-0940-4059-a72d-8d681ac84642\">\n",
              "    <div class=\"colab-df-container\">\n",
              "      <div>\n",
              "<style scoped>\n",
              "    .dataframe tbody tr th:only-of-type {\n",
              "        vertical-align: middle;\n",
              "    }\n",
              "\n",
              "    .dataframe tbody tr th {\n",
              "        vertical-align: top;\n",
              "    }\n",
              "\n",
              "    .dataframe thead th {\n",
              "        text-align: right;\n",
              "    }\n",
              "</style>\n",
              "<table border=\"1\" class=\"dataframe\">\n",
              "  <thead>\n",
              "    <tr style=\"text-align: right;\">\n",
              "      <th></th>\n",
              "      <th>label</th>\n",
              "      <th>1x1</th>\n",
              "      <th>1x2</th>\n",
              "      <th>1x3</th>\n",
              "      <th>1x4</th>\n",
              "      <th>1x5</th>\n",
              "      <th>1x6</th>\n",
              "      <th>1x7</th>\n",
              "      <th>1x8</th>\n",
              "      <th>1x9</th>\n",
              "      <th>...</th>\n",
              "      <th>28x19</th>\n",
              "      <th>28x20</th>\n",
              "      <th>28x21</th>\n",
              "      <th>28x22</th>\n",
              "      <th>28x23</th>\n",
              "      <th>28x24</th>\n",
              "      <th>28x25</th>\n",
              "      <th>28x26</th>\n",
              "      <th>28x27</th>\n",
              "      <th>28x28</th>\n",
              "    </tr>\n",
              "  </thead>\n",
              "  <tbody>\n",
              "    <tr>\n",
              "      <th>0</th>\n",
              "      <td>5</td>\n",
              "      <td>0</td>\n",
              "      <td>0</td>\n",
              "      <td>0</td>\n",
              "      <td>0</td>\n",
              "      <td>0</td>\n",
              "      <td>0</td>\n",
              "      <td>0</td>\n",
              "      <td>0</td>\n",
              "      <td>0</td>\n",
              "      <td>...</td>\n",
              "      <td>0</td>\n",
              "      <td>0</td>\n",
              "      <td>0</td>\n",
              "      <td>0</td>\n",
              "      <td>0</td>\n",
              "      <td>0</td>\n",
              "      <td>0</td>\n",
              "      <td>0</td>\n",
              "      <td>0</td>\n",
              "      <td>0</td>\n",
              "    </tr>\n",
              "    <tr>\n",
              "      <th>1</th>\n",
              "      <td>0</td>\n",
              "      <td>0</td>\n",
              "      <td>0</td>\n",
              "      <td>0</td>\n",
              "      <td>0</td>\n",
              "      <td>0</td>\n",
              "      <td>0</td>\n",
              "      <td>0</td>\n",
              "      <td>0</td>\n",
              "      <td>0</td>\n",
              "      <td>...</td>\n",
              "      <td>0</td>\n",
              "      <td>0</td>\n",
              "      <td>0</td>\n",
              "      <td>0</td>\n",
              "      <td>0</td>\n",
              "      <td>0</td>\n",
              "      <td>0</td>\n",
              "      <td>0</td>\n",
              "      <td>0</td>\n",
              "      <td>0</td>\n",
              "    </tr>\n",
              "    <tr>\n",
              "      <th>2</th>\n",
              "      <td>4</td>\n",
              "      <td>0</td>\n",
              "      <td>0</td>\n",
              "      <td>0</td>\n",
              "      <td>0</td>\n",
              "      <td>0</td>\n",
              "      <td>0</td>\n",
              "      <td>0</td>\n",
              "      <td>0</td>\n",
              "      <td>0</td>\n",
              "      <td>...</td>\n",
              "      <td>0</td>\n",
              "      <td>0</td>\n",
              "      <td>0</td>\n",
              "      <td>0</td>\n",
              "      <td>0</td>\n",
              "      <td>0</td>\n",
              "      <td>0</td>\n",
              "      <td>0</td>\n",
              "      <td>0</td>\n",
              "      <td>0</td>\n",
              "    </tr>\n",
              "    <tr>\n",
              "      <th>3</th>\n",
              "      <td>1</td>\n",
              "      <td>0</td>\n",
              "      <td>0</td>\n",
              "      <td>0</td>\n",
              "      <td>0</td>\n",
              "      <td>0</td>\n",
              "      <td>0</td>\n",
              "      <td>0</td>\n",
              "      <td>0</td>\n",
              "      <td>0</td>\n",
              "      <td>...</td>\n",
              "      <td>0</td>\n",
              "      <td>0</td>\n",
              "      <td>0</td>\n",
              "      <td>0</td>\n",
              "      <td>0</td>\n",
              "      <td>0</td>\n",
              "      <td>0</td>\n",
              "      <td>0</td>\n",
              "      <td>0</td>\n",
              "      <td>0</td>\n",
              "    </tr>\n",
              "    <tr>\n",
              "      <th>4</th>\n",
              "      <td>9</td>\n",
              "      <td>0</td>\n",
              "      <td>0</td>\n",
              "      <td>0</td>\n",
              "      <td>0</td>\n",
              "      <td>0</td>\n",
              "      <td>0</td>\n",
              "      <td>0</td>\n",
              "      <td>0</td>\n",
              "      <td>0</td>\n",
              "      <td>...</td>\n",
              "      <td>0</td>\n",
              "      <td>0</td>\n",
              "      <td>0</td>\n",
              "      <td>0</td>\n",
              "      <td>0</td>\n",
              "      <td>0</td>\n",
              "      <td>0</td>\n",
              "      <td>0</td>\n",
              "      <td>0</td>\n",
              "      <td>0</td>\n",
              "    </tr>\n",
              "  </tbody>\n",
              "</table>\n",
              "<p>5 rows × 785 columns</p>\n",
              "</div>\n",
              "      <button class=\"colab-df-convert\" onclick=\"convertToInteractive('df-f1406d37-0940-4059-a72d-8d681ac84642')\"\n",
              "              title=\"Convert this dataframe to an interactive table.\"\n",
              "              style=\"display:none;\">\n",
              "        \n",
              "  <svg xmlns=\"http://www.w3.org/2000/svg\" height=\"24px\"viewBox=\"0 0 24 24\"\n",
              "       width=\"24px\">\n",
              "    <path d=\"M0 0h24v24H0V0z\" fill=\"none\"/>\n",
              "    <path d=\"M18.56 5.44l.94 2.06.94-2.06 2.06-.94-2.06-.94-.94-2.06-.94 2.06-2.06.94zm-11 1L8.5 8.5l.94-2.06 2.06-.94-2.06-.94L8.5 2.5l-.94 2.06-2.06.94zm10 10l.94 2.06.94-2.06 2.06-.94-2.06-.94-.94-2.06-.94 2.06-2.06.94z\"/><path d=\"M17.41 7.96l-1.37-1.37c-.4-.4-.92-.59-1.43-.59-.52 0-1.04.2-1.43.59L10.3 9.45l-7.72 7.72c-.78.78-.78 2.05 0 2.83L4 21.41c.39.39.9.59 1.41.59.51 0 1.02-.2 1.41-.59l7.78-7.78 2.81-2.81c.8-.78.8-2.07 0-2.86zM5.41 20L4 18.59l7.72-7.72 1.47 1.35L5.41 20z\"/>\n",
              "  </svg>\n",
              "      </button>\n",
              "      \n",
              "  <style>\n",
              "    .colab-df-container {\n",
              "      display:flex;\n",
              "      flex-wrap:wrap;\n",
              "      gap: 12px;\n",
              "    }\n",
              "\n",
              "    .colab-df-convert {\n",
              "      background-color: #E8F0FE;\n",
              "      border: none;\n",
              "      border-radius: 50%;\n",
              "      cursor: pointer;\n",
              "      display: none;\n",
              "      fill: #1967D2;\n",
              "      height: 32px;\n",
              "      padding: 0 0 0 0;\n",
              "      width: 32px;\n",
              "    }\n",
              "\n",
              "    .colab-df-convert:hover {\n",
              "      background-color: #E2EBFA;\n",
              "      box-shadow: 0px 1px 2px rgba(60, 64, 67, 0.3), 0px 1px 3px 1px rgba(60, 64, 67, 0.15);\n",
              "      fill: #174EA6;\n",
              "    }\n",
              "\n",
              "    [theme=dark] .colab-df-convert {\n",
              "      background-color: #3B4455;\n",
              "      fill: #D2E3FC;\n",
              "    }\n",
              "\n",
              "    [theme=dark] .colab-df-convert:hover {\n",
              "      background-color: #434B5C;\n",
              "      box-shadow: 0px 1px 3px 1px rgba(0, 0, 0, 0.15);\n",
              "      filter: drop-shadow(0px 1px 2px rgba(0, 0, 0, 0.3));\n",
              "      fill: #FFFFFF;\n",
              "    }\n",
              "  </style>\n",
              "\n",
              "      <script>\n",
              "        const buttonEl =\n",
              "          document.querySelector('#df-f1406d37-0940-4059-a72d-8d681ac84642 button.colab-df-convert');\n",
              "        buttonEl.style.display =\n",
              "          google.colab.kernel.accessAllowed ? 'block' : 'none';\n",
              "\n",
              "        async function convertToInteractive(key) {\n",
              "          const element = document.querySelector('#df-f1406d37-0940-4059-a72d-8d681ac84642');\n",
              "          const dataTable =\n",
              "            await google.colab.kernel.invokeFunction('convertToInteractive',\n",
              "                                                     [key], {});\n",
              "          if (!dataTable) return;\n",
              "\n",
              "          const docLinkHtml = 'Like what you see? Visit the ' +\n",
              "            '<a target=\"_blank\" href=https://colab.research.google.com/notebooks/data_table.ipynb>data table notebook</a>'\n",
              "            + ' to learn more about interactive tables.';\n",
              "          element.innerHTML = '';\n",
              "          dataTable['output_type'] = 'display_data';\n",
              "          await google.colab.output.renderOutput(dataTable, element);\n",
              "          const docLink = document.createElement('div');\n",
              "          docLink.innerHTML = docLinkHtml;\n",
              "          element.appendChild(docLink);\n",
              "        }\n",
              "      </script>\n",
              "    </div>\n",
              "  </div>\n",
              "  "
            ]
          },
          "metadata": {},
          "execution_count": 3
        }
      ],
      "source": [
        "data.head()"
      ]
    },
    {
      "cell_type": "code",
      "execution_count": 4,
      "id": "55db6368",
      "metadata": {
        "ExecuteTime": {
          "end_time": "2022-03-23T13:15:36.276336Z",
          "start_time": "2022-03-23T13:15:36.254447Z"
        },
        "colab": {
          "base_uri": "https://localhost:8080/"
        },
        "id": "55db6368",
        "outputId": "1fc30a6c-4349-4679-ed4f-3d00aeca1eb8"
      },
      "outputs": [
        {
          "output_type": "execute_result",
          "data": {
            "text/plain": [
              "(60000, 785)"
            ]
          },
          "metadata": {},
          "execution_count": 4
        }
      ],
      "source": [
        "data.shape"
      ]
    },
    {
      "cell_type": "code",
      "execution_count": 5,
      "id": "63533c8e",
      "metadata": {
        "ExecuteTime": {
          "end_time": "2022-03-23T13:16:16.060789Z",
          "start_time": "2022-03-23T13:16:15.861765Z"
        },
        "id": "63533c8e"
      },
      "outputs": [],
      "source": [
        "data = np.array(data)"
      ]
    },
    {
      "cell_type": "code",
      "execution_count": 6,
      "id": "3a902391",
      "metadata": {
        "ExecuteTime": {
          "end_time": "2022-03-23T13:16:51.157101Z",
          "start_time": "2022-03-23T13:16:51.136794Z"
        },
        "colab": {
          "base_uri": "https://localhost:8080/"
        },
        "id": "3a902391",
        "outputId": "e460d3bb-46f2-4cdf-bb29-df2e91479f9f"
      },
      "outputs": [
        {
          "output_type": "execute_result",
          "data": {
            "text/plain": [
              "(60000, 785)"
            ]
          },
          "metadata": {},
          "execution_count": 6
        }
      ],
      "source": [
        "m, n = data.shape\n",
        "\n",
        "m,n"
      ]
    },
    {
      "cell_type": "code",
      "execution_count": 7,
      "id": "ca932ed7",
      "metadata": {
        "ExecuteTime": {
          "end_time": "2022-03-23T13:13:33.070073Z",
          "start_time": "2022-03-23T13:13:30.997306Z"
        },
        "id": "ca932ed7"
      },
      "outputs": [],
      "source": [
        "data = np.array(data)\n",
        "m, n = data.shape\n",
        "np.random.shuffle(data) # shuffle before splitting into dev and training sets\n",
        "\n",
        "data_dev = data[0:1000].T\n",
        "Y_dev = data_dev[0]\n",
        "X_dev = data_dev[1:n]\n",
        "X_dev = X_dev / 255.\n",
        "\n",
        "data_train = data[1000:m].T\n",
        "Y_train = data_train[0]\n",
        "X_train = data_train[1:n]\n",
        "X_train = X_train / 255.\n",
        "_,m_train = X_train.shape"
      ]
    },
    {
      "cell_type": "code",
      "execution_count": 8,
      "id": "5c42800c",
      "metadata": {
        "ExecuteTime": {
          "end_time": "2022-03-23T13:25:47.587295Z",
          "start_time": "2022-03-23T13:25:47.571909Z"
        },
        "colab": {
          "base_uri": "https://localhost:8080/"
        },
        "id": "5c42800c",
        "outputId": "549826f0-4c91-4106-c29d-c09120501404"
      },
      "outputs": [
        {
          "output_type": "execute_result",
          "data": {
            "text/plain": [
              "array([2, 9, 9, ..., 1, 2, 2])"
            ]
          },
          "metadata": {},
          "execution_count": 8
        }
      ],
      "source": [
        "Y_train"
      ]
    },
    {
      "cell_type": "code",
      "execution_count": 9,
      "id": "8fc367c1",
      "metadata": {
        "ExecuteTime": {
          "end_time": "2022-03-23T13:26:00.262605Z",
          "start_time": "2022-03-23T13:26:00.248228Z"
        },
        "colab": {
          "base_uri": "https://localhost:8080/"
        },
        "id": "8fc367c1",
        "outputId": "d55b3170-3bf7-4297-e1e6-33bd1f86e4b1"
      },
      "outputs": [
        {
          "output_type": "execute_result",
          "data": {
            "text/plain": [
              "array([[0., 0., 0., ..., 0., 0., 0.],\n",
              "       [0., 0., 0., ..., 0., 0., 0.],\n",
              "       [0., 0., 0., ..., 0., 0., 0.],\n",
              "       ...,\n",
              "       [0., 0., 0., ..., 0., 0., 0.],\n",
              "       [0., 0., 0., ..., 0., 0., 0.],\n",
              "       [0., 0., 0., ..., 0., 0., 0.]])"
            ]
          },
          "metadata": {},
          "execution_count": 9
        }
      ],
      "source": [
        "X_train"
      ]
    },
    {
      "cell_type": "code",
      "execution_count": 10,
      "id": "9462285c",
      "metadata": {
        "ExecuteTime": {
          "end_time": "2022-03-23T13:27:13.337382Z",
          "start_time": "2022-03-23T13:27:13.315604Z"
        },
        "colab": {
          "base_uri": "https://localhost:8080/"
        },
        "id": "9462285c",
        "outputId": "d7b72aa3-13a2-414f-cc4c-5a2bd9904f8a"
      },
      "outputs": [
        {
          "output_type": "execute_result",
          "data": {
            "text/plain": [
              "array([[0.85054371, 0.25465553, 0.95454583]])"
            ]
          },
          "metadata": {},
          "execution_count": 10
        }
      ],
      "source": [
        "np.random.rand(1,3)"
      ]
    },
    {
      "cell_type": "code",
      "execution_count": 11,
      "id": "b7b35457",
      "metadata": {
        "ExecuteTime": {
          "end_time": "2022-03-23T13:26:45.608115Z",
          "start_time": "2022-03-23T13:26:45.600045Z"
        },
        "id": "b7b35457"
      },
      "outputs": [],
      "source": [
        "def init_params():\n",
        "    W1 = np.random.rand(10, 784) - 0.5\n",
        "    b1 = np.random.rand(10, 1) - 0.5\n",
        "    W2 = np.random.rand(10, 10) - 0.5\n",
        "    b2 = np.random.rand(10, 1) - 0.5\n",
        "    return W1, b1, W2, b2"
      ]
    },
    {
      "cell_type": "code",
      "execution_count": 12,
      "id": "bf7bb045",
      "metadata": {
        "ExecuteTime": {
          "end_time": "2022-03-23T13:50:23.759230Z",
          "start_time": "2022-03-23T13:50:23.740062Z"
        },
        "id": "bf7bb045"
      },
      "outputs": [],
      "source": [
        "def ReLU(Z):\n",
        "    return np.maximum(Z, 0)"
      ]
    },
    {
      "cell_type": "code",
      "execution_count": 13,
      "id": "02c2b124",
      "metadata": {
        "ExecuteTime": {
          "end_time": "2022-03-23T13:50:31.764259Z",
          "start_time": "2022-03-23T13:50:31.746052Z"
        },
        "id": "02c2b124"
      },
      "outputs": [],
      "source": [
        "def softmax(Z):\n",
        "    A = np.exp(Z) / sum(np.exp(Z))\n",
        "    return A"
      ]
    },
    {
      "cell_type": "code",
      "execution_count": 14,
      "id": "1d3c24ae",
      "metadata": {
        "ExecuteTime": {
          "end_time": "2022-03-23T13:50:50.805219Z",
          "start_time": "2022-03-23T13:50:50.799412Z"
        },
        "id": "1d3c24ae"
      },
      "outputs": [],
      "source": [
        "def forward_prop(W1, b1, W2, b2, X):\n",
        "    Z1 = W1.dot(X) + b1\n",
        "    A1 = ReLU(Z1)\n",
        "    Z2 = W2.dot(A1) + b2\n",
        "    A2 = softmax(Z2)\n",
        "    return Z1, A1, Z2, A2"
      ]
    },
    {
      "cell_type": "code",
      "execution_count": 15,
      "id": "3eefcb8b",
      "metadata": {
        "ExecuteTime": {
          "end_time": "2022-03-23T13:51:01.304598Z",
          "start_time": "2022-03-23T13:51:01.281801Z"
        },
        "id": "3eefcb8b"
      },
      "outputs": [],
      "source": [
        "def ReLU_deriv(Z):\n",
        "    return Z > 0"
      ]
    },
    {
      "cell_type": "code",
      "execution_count": 16,
      "id": "16290b02",
      "metadata": {
        "ExecuteTime": {
          "end_time": "2022-03-23T13:51:11.555734Z",
          "start_time": "2022-03-23T13:51:11.545333Z"
        },
        "id": "16290b02"
      },
      "outputs": [],
      "source": [
        "def one_hot(Y):\n",
        "    one_hot_Y = np.zeros((Y.size, Y.max() + 1))\n",
        "    one_hot_Y[np.arange(Y.size), Y] = 1\n",
        "    one_hot_Y = one_hot_Y.T\n",
        "    return one_hot_Y"
      ]
    },
    {
      "cell_type": "code",
      "execution_count": 17,
      "id": "d084a704",
      "metadata": {
        "ExecuteTime": {
          "end_time": "2022-03-23T13:51:44.311245Z",
          "start_time": "2022-03-23T13:51:44.294605Z"
        },
        "id": "d084a704"
      },
      "outputs": [],
      "source": [
        "\n",
        "def backward_prop(Z1, A1, Z2, A2, W1, W2, X, Y):\n",
        "    one_hot_Y = one_hot(Y)\n",
        "    dZ2 = A2 - one_hot_Y\n",
        "    dW2 = 1 / m * dZ2.dot(A1.T)\n",
        "    db2 = 1 / m * np.sum(dZ2)\n",
        "    dZ1 = W2.T.dot(dZ2) * ReLU_deriv(Z1)\n",
        "    dW1 = 1 / m * dZ1.dot(X.T)\n",
        "    db1 = 1 / m * np.sum(dZ1)\n",
        "    return dW1, db1, dW2, db2\n",
        "\n",
        "def update_params(W1, b1, W2, b2, dW1, db1, dW2, db2, alpha):\n",
        "    W1 = W1 - alpha * dW1\n",
        "    b1 = b1 - alpha * db1    \n",
        "    W2 = W2 - alpha * dW2  \n",
        "    b2 = b2 - alpha * db2    \n",
        "    return W1, b1, W2, b2"
      ]
    },
    {
      "cell_type": "code",
      "execution_count": 18,
      "id": "26671085",
      "metadata": {
        "ExecuteTime": {
          "end_time": "2022-03-23T13:53:19.778856Z",
          "start_time": "2022-03-23T13:52:19.111956Z"
        },
        "colab": {
          "base_uri": "https://localhost:8080/"
        },
        "id": "26671085",
        "outputId": "13f821a9-e571-4ad3-e38d-dffe1346149b"
      },
      "outputs": [
        {
          "output_type": "stream",
          "name": "stdout",
          "text": [
            "Iteration:  0\n",
            "[6 6 6 ... 6 9 8] [2 9 9 ... 1 2 2]\n",
            "0.09269491525423729\n",
            "Iteration:  10\n",
            "[3 9 0 ... 4 9 8] [2 9 9 ... 1 2 2]\n",
            "0.13911864406779662\n",
            "Iteration:  20\n",
            "[3 9 0 ... 4 9 3] [2 9 9 ... 1 2 2]\n",
            "0.197135593220339\n",
            "Iteration:  30\n",
            "[3 9 0 ... 0 9 3] [2 9 9 ... 1 2 2]\n",
            "0.24769491525423729\n",
            "Iteration:  40\n",
            "[3 9 0 ... 0 8 3] [2 9 9 ... 1 2 2]\n",
            "0.29633898305084744\n",
            "Iteration:  50\n",
            "[3 9 0 ... 7 3 3] [2 9 9 ... 1 2 2]\n",
            "0.3483050847457627\n",
            "Iteration:  60\n",
            "[3 9 4 ... 7 3 3] [2 9 9 ... 1 2 2]\n",
            "0.4031016949152542\n",
            "Iteration:  70\n",
            "[3 9 4 ... 7 3 3] [2 9 9 ... 1 2 2]\n",
            "0.4534745762711864\n",
            "Iteration:  80\n",
            "[3 9 4 ... 7 3 3] [2 9 9 ... 1 2 2]\n",
            "0.4952372881355932\n",
            "Iteration:  90\n",
            "[3 9 4 ... 7 3 3] [2 9 9 ... 1 2 2]\n",
            "0.5320677966101695\n",
            "Iteration:  100\n",
            "[3 9 4 ... 7 3 3] [2 9 9 ... 1 2 2]\n",
            "0.5643559322033899\n",
            "Iteration:  110\n",
            "[3 9 4 ... 7 2 3] [2 9 9 ... 1 2 2]\n",
            "0.5941694915254238\n",
            "Iteration:  120\n",
            "[3 9 7 ... 7 2 3] [2 9 9 ... 1 2 2]\n",
            "0.6193220338983051\n",
            "Iteration:  130\n",
            "[3 9 7 ... 7 2 3] [2 9 9 ... 1 2 2]\n",
            "0.6419322033898305\n",
            "Iteration:  140\n",
            "[3 9 7 ... 7 2 3] [2 9 9 ... 1 2 2]\n",
            "0.6605593220338983\n",
            "Iteration:  150\n",
            "[3 9 7 ... 7 2 3] [2 9 9 ... 1 2 2]\n",
            "0.6767796610169492\n",
            "Iteration:  160\n",
            "[3 9 7 ... 7 2 3] [2 9 9 ... 1 2 2]\n",
            "0.6907118644067797\n",
            "Iteration:  170\n",
            "[2 9 7 ... 7 2 3] [2 9 9 ... 1 2 2]\n",
            "0.704406779661017\n",
            "Iteration:  180\n",
            "[2 9 7 ... 7 2 3] [2 9 9 ... 1 2 2]\n",
            "0.716271186440678\n",
            "Iteration:  190\n",
            "[2 9 7 ... 7 2 3] [2 9 9 ... 1 2 2]\n",
            "0.7267627118644068\n",
            "Iteration:  200\n",
            "[2 9 7 ... 7 2 3] [2 9 9 ... 1 2 2]\n",
            "0.7360677966101695\n",
            "Iteration:  210\n",
            "[2 9 7 ... 7 2 3] [2 9 9 ... 1 2 2]\n",
            "0.7447288135593221\n",
            "Iteration:  220\n",
            "[2 9 7 ... 7 2 3] [2 9 9 ... 1 2 2]\n",
            "0.7523389830508475\n",
            "Iteration:  230\n",
            "[2 9 7 ... 7 2 3] [2 9 9 ... 1 2 2]\n",
            "0.7597966101694915\n",
            "Iteration:  240\n",
            "[2 9 7 ... 7 2 3] [2 9 9 ... 1 2 2]\n",
            "0.766542372881356\n",
            "Iteration:  250\n",
            "[2 9 7 ... 7 2 3] [2 9 9 ... 1 2 2]\n",
            "0.7728305084745762\n",
            "Iteration:  260\n",
            "[2 9 7 ... 7 2 3] [2 9 9 ... 1 2 2]\n",
            "0.7785762711864407\n",
            "Iteration:  270\n",
            "[2 9 7 ... 7 2 3] [2 9 9 ... 1 2 2]\n",
            "0.7840677966101695\n",
            "Iteration:  280\n",
            "[2 9 7 ... 7 2 3] [2 9 9 ... 1 2 2]\n",
            "0.7893559322033898\n",
            "Iteration:  290\n",
            "[2 9 7 ... 7 2 3] [2 9 9 ... 1 2 2]\n",
            "0.7937627118644068\n",
            "Iteration:  300\n",
            "[2 9 7 ... 7 2 3] [2 9 9 ... 1 2 2]\n",
            "0.798\n",
            "Iteration:  310\n",
            "[2 9 7 ... 7 2 3] [2 9 9 ... 1 2 2]\n",
            "0.802135593220339\n",
            "Iteration:  320\n",
            "[2 9 7 ... 7 2 3] [2 9 9 ... 1 2 2]\n",
            "0.8058983050847458\n",
            "Iteration:  330\n",
            "[2 9 9 ... 7 2 3] [2 9 9 ... 1 2 2]\n",
            "0.8096440677966101\n",
            "Iteration:  340\n",
            "[2 9 9 ... 7 2 3] [2 9 9 ... 1 2 2]\n",
            "0.8128474576271186\n",
            "Iteration:  350\n",
            "[2 9 9 ... 7 2 3] [2 9 9 ... 1 2 2]\n",
            "0.8157118644067797\n",
            "Iteration:  360\n",
            "[2 9 9 ... 7 2 3] [2 9 9 ... 1 2 2]\n",
            "0.8181525423728814\n",
            "Iteration:  370\n",
            "[2 9 9 ... 7 2 3] [2 9 9 ... 1 2 2]\n",
            "0.8210169491525424\n",
            "Iteration:  380\n",
            "[2 9 9 ... 7 2 3] [2 9 9 ... 1 2 2]\n",
            "0.8237966101694916\n",
            "Iteration:  390\n",
            "[2 9 9 ... 7 2 3] [2 9 9 ... 1 2 2]\n",
            "0.8261186440677966\n",
            "Iteration:  400\n",
            "[2 9 9 ... 7 2 3] [2 9 9 ... 1 2 2]\n",
            "0.8282881355932203\n",
            "Iteration:  410\n",
            "[2 9 9 ... 7 2 3] [2 9 9 ... 1 2 2]\n",
            "0.8303050847457627\n",
            "Iteration:  420\n",
            "[2 9 9 ... 7 2 3] [2 9 9 ... 1 2 2]\n",
            "0.8326101694915254\n",
            "Iteration:  430\n",
            "[2 9 9 ... 7 2 3] [2 9 9 ... 1 2 2]\n",
            "0.834457627118644\n",
            "Iteration:  440\n",
            "[2 9 9 ... 7 2 3] [2 9 9 ... 1 2 2]\n",
            "0.8364915254237288\n",
            "Iteration:  450\n",
            "[2 9 9 ... 7 2 3] [2 9 9 ... 1 2 2]\n",
            "0.8381186440677966\n",
            "Iteration:  460\n",
            "[2 9 9 ... 7 2 3] [2 9 9 ... 1 2 2]\n",
            "0.8397796610169491\n",
            "Iteration:  470\n",
            "[2 9 9 ... 7 2 2] [2 9 9 ... 1 2 2]\n",
            "0.8414406779661017\n",
            "Iteration:  480\n",
            "[2 9 9 ... 7 2 2] [2 9 9 ... 1 2 2]\n",
            "0.8430508474576272\n",
            "Iteration:  490\n",
            "[2 9 9 ... 7 2 2] [2 9 9 ... 1 2 2]\n",
            "0.8441525423728814\n"
          ]
        }
      ],
      "source": [
        "def get_predictions(A2):\n",
        "    return np.argmax(A2, 0)\n",
        "\n",
        "def get_accuracy(predictions, Y):\n",
        "    print(predictions, Y)\n",
        "    return np.sum(predictions == Y) / Y.size\n",
        "\n",
        "def gradient_descent(X, Y, alpha, iterations):\n",
        "    W1, b1, W2, b2 = init_params()\n",
        "    for i in range(iterations):\n",
        "        Z1, A1, Z2, A2 = forward_prop(W1, b1, W2, b2, X)\n",
        "        dW1, db1, dW2, db2 = backward_prop(Z1, A1, Z2, A2, W1, W2, X, Y)\n",
        "        W1, b1, W2, b2 = update_params(W1, b1, W2, b2, dW1, db1, dW2, db2, alpha)\n",
        "        if i % 10 == 0:\n",
        "            print(\"Iteration: \", i)\n",
        "            predictions = get_predictions(A2)\n",
        "            print(get_accuracy(predictions, Y))\n",
        "    return W1, b1, W2, b2\n",
        "W1, b1, W2, b2 = gradient_descent(X_train, Y_train, 0.10, 500)"
      ]
    },
    {
      "cell_type": "code",
      "execution_count": 19,
      "id": "a24b4157",
      "metadata": {
        "ExecuteTime": {
          "end_time": "2022-03-23T14:02:49.383230Z",
          "start_time": "2022-03-23T14:02:49.360511Z"
        },
        "id": "a24b4157"
      },
      "outputs": [],
      "source": [
        "def make_predictions(X, W1, b1, W2, b2):\n",
        "    _, _, _, A2 = forward_prop(W1, b1, W2, b2, X)\n",
        "    predictions = get_predictions(A2)\n",
        "    return predictions\n"
      ]
    },
    {
      "cell_type": "code",
      "execution_count": 20,
      "id": "f625f5b2",
      "metadata": {
        "ExecuteTime": {
          "end_time": "2022-03-23T14:02:50.554906Z",
          "start_time": "2022-03-23T14:02:50.542864Z"
        },
        "id": "f625f5b2"
      },
      "outputs": [],
      "source": [
        "def test_prediction(index, W1, b1, W2, b2):\n",
        "    current_image = X_train[:, index, None]\n",
        "    prediction = make_predictions(X_train[:, index, None], W1, b1, W2, b2)\n",
        "    label = Y_train[index]\n",
        "    print(\"Prediction: \", prediction)\n",
        "    print(\"Label: \", label)\n",
        "    \n",
        "    current_image = current_image.reshape((28, 28)) * 255\n",
        "    plt.gray()\n",
        "    plt.imshow(current_image, interpolation='nearest')\n",
        "    plt.show()"
      ]
    },
    {
      "cell_type": "code",
      "execution_count": 21,
      "id": "0d59d249",
      "metadata": {
        "ExecuteTime": {
          "end_time": "2022-03-23T14:02:52.819105Z",
          "start_time": "2022-03-23T14:02:51.975926Z"
        },
        "colab": {
          "base_uri": "https://localhost:8080/",
          "height": 1000
        },
        "id": "0d59d249",
        "outputId": "4e40fbe6-c411-4354-8050-1f49a4ebe7fe"
      },
      "outputs": [
        {
          "output_type": "stream",
          "name": "stdout",
          "text": [
            "Prediction:  [2]\n",
            "Label:  2\n"
          ]
        },
        {
          "output_type": "display_data",
          "data": {
            "text/plain": [
              "<Figure size 432x288 with 1 Axes>"
            ],
            "image/png": "[encoded data removed]"
          },
          "metadata": {
            "needs_background": "light"
          }
        },
        {
          "output_type": "stream",
          "name": "stdout",
          "text": [
            "Prediction:  [9]\n",
            "Label:  9\n"
          ]
        },
        {
          "output_type": "display_data",
          "data": {
            "text/plain": [
              "<Figure size 432x288 with 1 Axes>"
            ],
            "image/png": "[encoded data removed]"
          },
          "metadata": {
            "needs_background": "light"
          }
        },
        {
          "output_type": "stream",
          "name": "stdout",
          "text": [
            "Prediction:  [9]\n",
            "Label:  9\n"
          ]
        },
        {
          "output_type": "display_data",
          "data": {
            "text/plain": [
              "<Figure size 432x288 with 1 Axes>"
            ],
            "image/png": "[encoded data removed]"
          },
          "metadata": {
            "needs_background": "light"
          }
        },
        {
          "output_type": "stream",
          "name": "stdout",
          "text": [
            "Prediction:  [9]\n",
            "Label:  9\n"
          ]
        },
        {
          "output_type": "display_data",
          "data": {
            "text/plain": [
              "<Figure size 432x288 with 1 Axes>"
            ],
            "image/png": "[encoded data removed]"
          },
          "metadata": {
            "needs_background": "light"
          }
        }
      ],
      "source": [
        "test_prediction(0, W1, b1, W2, b2)\n",
        "test_prediction(1, W1, b1, W2, b2)\n",
        "test_prediction(2, W1, b1, W2, b2)\n",
        "test_prediction(3, W1, b1, W2, b2)"
      ]
    }
  ],
  "metadata": {
    "kernelspec": {
      "display_name": "Python 3 (ipykernel)",
      "language": "python",
      "name": "python3"
    },
    "language_info": {
      "codemirror_mode": {
        "name": "ipython",
        "version": 3
      },
      "file_extension": ".py",
      "mimetype": "text/x-python",
      "name": "python",
      "nbconvert_exporter": "python",
      "pygments_lexer": "ipython3",
      "version": "3.9.7"
    },
    "colab": {
      "name": "Neural_from_Scratch.ipynb",
      "provenance": [],
      "include_colab_link": true
    },
    "accelerator": "GPU",
    "gpuClass": "standard"
  },
  "nbformat": 4,
  "nbformat_minor": 5
}